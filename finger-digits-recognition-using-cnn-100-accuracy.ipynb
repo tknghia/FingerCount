{
 "cells": [
  {
   "cell_type": "code",
   "execution_count": 1,
   "id": "667a4050",
   "metadata": {
    "_cell_guid": "c2d7f9fd-71c1-415e-b18a-898ac526ab21",
    "_uuid": "ebfefb94-4fb6-4528-87fa-e74a0f95918d",
    "collapsed": false,
    "execution": {
     "iopub.execute_input": "2024-08-20T14:13:52.833119Z",
     "iopub.status.busy": "2024-08-20T14:13:52.832824Z",
     "iopub.status.idle": "2024-08-20T14:13:52.843361Z",
     "shell.execute_reply": "2024-08-20T14:13:52.842530Z"
    },
    "jupyter": {
     "outputs_hidden": false
    },
    "papermill": {
     "duration": 0.020287,
     "end_time": "2024-08-20T14:13:52.845248",
     "exception": false,
     "start_time": "2024-08-20T14:13:52.824961",
     "status": "completed"
    },
    "tags": []
   },
   "outputs": [],
   "source": [
    "import os"
   ]
  },
  {
   "cell_type": "code",
   "execution_count": 2,
   "id": "43556052",
   "metadata": {
    "_cell_guid": "b7b66ada-9116-4d56-b8b7-2bec78cf1b6f",
    "_uuid": "b32adbcd-c640-407e-89ea-5480209752af",
    "collapsed": false,
    "execution": {
     "iopub.execute_input": "2024-08-20T14:13:52.858804Z",
     "iopub.status.busy": "2024-08-20T14:13:52.858502Z",
     "iopub.status.idle": "2024-08-20T14:13:52.862145Z",
     "shell.execute_reply": "2024-08-20T14:13:52.861307Z"
    },
    "jupyter": {
     "outputs_hidden": false
    },
    "papermill": {
     "duration": 0.012474,
     "end_time": "2024-08-20T14:13:52.864083",
     "exception": false,
     "start_time": "2024-08-20T14:13:52.851609",
     "status": "completed"
    },
    "tags": []
   },
   "outputs": [],
   "source": [
    "# os.listdir()"
   ]
  },
  {
   "cell_type": "code",
   "execution_count": 3,
   "id": "d9603fe4",
   "metadata": {
    "_cell_guid": "0dbc8ba6-4c81-446e-ac58-ae73d44c56ef",
    "_uuid": "a5b81f25-eefa-4aa0-876d-c9a64a01add7",
    "collapsed": false,
    "execution": {
     "iopub.execute_input": "2024-08-20T14:13:52.877255Z",
     "iopub.status.busy": "2024-08-20T14:13:52.877029Z",
     "iopub.status.idle": "2024-08-20T14:13:52.883295Z",
     "shell.execute_reply": "2024-08-20T14:13:52.882662Z"
    },
    "jupyter": {
     "outputs_hidden": false
    },
    "papermill": {
     "duration": 0.014783,
     "end_time": "2024-08-20T14:13:52.885050",
     "exception": false,
     "start_time": "2024-08-20T14:13:52.870267",
     "status": "completed"
    },
    "tags": []
   },
   "outputs": [],
   "source": [
    "os.chdir('/kaggle/input/finger-digits-05/training_images (copy)')"
   ]
  },
  {
   "cell_type": "code",
   "execution_count": 4,
   "id": "74f1f1b8",
   "metadata": {
    "_cell_guid": "fade2ab6-5d03-465a-a534-3792784418d3",
    "_uuid": "2c10f9e1-289c-485d-9fef-a230cb7def84",
    "collapsed": false,
    "execution": {
     "iopub.execute_input": "2024-08-20T14:13:52.898765Z",
     "iopub.status.busy": "2024-08-20T14:13:52.898148Z",
     "iopub.status.idle": "2024-08-20T14:13:53.042775Z",
     "shell.execute_reply": "2024-08-20T14:13:53.041968Z"
    },
    "jupyter": {
     "outputs_hidden": false
    },
    "papermill": {
     "duration": 0.153363,
     "end_time": "2024-08-20T14:13:53.044645",
     "exception": false,
     "start_time": "2024-08-20T14:13:52.891282",
     "status": "completed"
    },
    "tags": []
   },
   "outputs": [
    {
     "data": {
      "text/plain": [
       "['1463_0.png', '754_4.png', '1155_0.png', '597_0.png', '1002_1.png']"
      ]
     },
     "execution_count": 4,
     "metadata": {},
     "output_type": "execute_result"
    }
   ],
   "source": [
    "os.listdir()[0:5]"
   ]
  },
  {
   "cell_type": "code",
   "execution_count": 5,
   "id": "183e65ba",
   "metadata": {
    "_cell_guid": "6124d394-f36f-4dec-a1a3-3eb0426410cf",
    "_uuid": "c0c6eb64-d414-41a7-bab7-fc87fb10481c",
    "collapsed": false,
    "execution": {
     "iopub.execute_input": "2024-08-20T14:13:53.058410Z",
     "iopub.status.busy": "2024-08-20T14:13:53.058178Z",
     "iopub.status.idle": "2024-08-20T14:13:53.068370Z",
     "shell.execute_reply": "2024-08-20T14:13:53.067556Z"
    },
    "jupyter": {
     "outputs_hidden": false
    },
    "papermill": {
     "duration": 0.019627,
     "end_time": "2024-08-20T14:13:53.070612",
     "exception": false,
     "start_time": "2024-08-20T14:13:53.050985",
     "status": "completed"
    },
    "tags": []
   },
   "outputs": [],
   "source": [
    "image_paths = [f for f in os.listdir() if f.endswith(('.jpg', '.jpeg', '.png', '.gif'))]"
   ]
  },
  {
   "cell_type": "code",
   "execution_count": 6,
   "id": "ae864e9b",
   "metadata": {
    "_cell_guid": "c58b2e11-d35a-4749-b342-cde0d3e5ef59",
    "_uuid": "195a0b64-7aa1-433e-ac95-da68f1b9dde1",
    "collapsed": false,
    "execution": {
     "iopub.execute_input": "2024-08-20T14:13:53.084184Z",
     "iopub.status.busy": "2024-08-20T14:13:53.083924Z",
     "iopub.status.idle": "2024-08-20T14:13:53.087501Z",
     "shell.execute_reply": "2024-08-20T14:13:53.086711Z"
    },
    "jupyter": {
     "outputs_hidden": false
    },
    "papermill": {
     "duration": 0.012452,
     "end_time": "2024-08-20T14:13:53.089377",
     "exception": false,
     "start_time": "2024-08-20T14:13:53.076925",
     "status": "completed"
    },
    "tags": []
   },
   "outputs": [],
   "source": [
    "from PIL import Image"
   ]
  },
  {
   "cell_type": "code",
   "execution_count": 7,
   "id": "ce313c3b",
   "metadata": {
    "_cell_guid": "779ce685-e1d9-4593-a89a-1af5768e6a89",
    "_uuid": "efafe848-ba58-452c-b71b-89e6ce2817f1",
    "collapsed": false,
    "execution": {
     "iopub.execute_input": "2024-08-20T14:13:53.103415Z",
     "iopub.status.busy": "2024-08-20T14:13:53.102931Z",
     "iopub.status.idle": "2024-08-20T14:14:25.883716Z",
     "shell.execute_reply": "2024-08-20T14:14:25.882915Z"
    },
    "jupyter": {
     "outputs_hidden": false
    },
    "papermill": {
     "duration": 32.790173,
     "end_time": "2024-08-20T14:14:25.885989",
     "exception": false,
     "start_time": "2024-08-20T14:13:53.095816",
     "status": "completed"
    },
    "tags": []
   },
   "outputs": [],
   "source": [
    "import numpy as np\n",
    "images=[]\n",
    "for image_file in image_paths:\n",
    "    with Image.open(image_file) as image:\n",
    "        images.append(np.array(image))"
   ]
  },
  {
   "cell_type": "code",
   "execution_count": 8,
   "id": "cea020e3",
   "metadata": {
    "_cell_guid": "cfd3c99a-f177-433b-b924-f7bd35cdeb65",
    "_uuid": "97a68f38-7866-46ee-9193-ad4ac858e251",
    "collapsed": false,
    "execution": {
     "iopub.execute_input": "2024-08-20T14:14:25.900300Z",
     "iopub.status.busy": "2024-08-20T14:14:25.900041Z",
     "iopub.status.idle": "2024-08-20T14:14:26.202468Z",
     "shell.execute_reply": "2024-08-20T14:14:26.201567Z"
    },
    "jupyter": {
     "outputs_hidden": false
    },
    "papermill": {
     "duration": 0.311884,
     "end_time": "2024-08-20T14:14:26.204742",
     "exception": false,
     "start_time": "2024-08-20T14:14:25.892858",
     "status": "completed"
    },
    "tags": []
   },
   "outputs": [
    {
     "data": {
      "text/plain": [
       "<matplotlib.image.AxesImage at 0x7f65028272b0>"
      ]
     },
     "execution_count": 8,
     "metadata": {},
     "output_type": "execute_result"
    },
    {
     "data": {
      "image/png": "[encoded data removed]",
      "text/plain": [
       "<Figure size 640x480 with 1 Axes>"
      ]
     },
     "metadata": {},
     "output_type": "display_data"
    }
   ],
   "source": [
    "import matplotlib.pyplot as plt\n",
    "plt.imshow(images[10],cmap='gray')"
   ]
  },
  {
   "cell_type": "code",
   "execution_count": 9,
   "id": "22f2c2a9",
   "metadata": {
    "_cell_guid": "0fc1f132-1cf9-43bd-affa-277163695d70",
    "_uuid": "1711899d-09d1-4e84-930c-725a7c61610f",
    "collapsed": false,
    "execution": {
     "iopub.execute_input": "2024-08-20T14:14:26.221107Z",
     "iopub.status.busy": "2024-08-20T14:14:26.220814Z",
     "iopub.status.idle": "2024-08-20T14:14:26.226954Z",
     "shell.execute_reply": "2024-08-20T14:14:26.225973Z"
    },
    "jupyter": {
     "outputs_hidden": false
    },
    "papermill": {
     "duration": 0.016959,
     "end_time": "2024-08-20T14:14:26.228903",
     "exception": false,
     "start_time": "2024-08-20T14:14:26.211944",
     "status": "completed"
    },
    "tags": []
   },
   "outputs": [
    {
     "data": {
      "text/plain": [
       "1"
      ]
     },
     "execution_count": 9,
     "metadata": {},
     "output_type": "execute_result"
    }
   ],
   "source": [
    "int(image_paths[10].split('_')[1].split('.')[0])"
   ]
  },
  {
   "cell_type": "code",
   "execution_count": 10,
   "id": "35449326",
   "metadata": {
    "_cell_guid": "0546401f-333e-46fa-9736-83aeffe2d82d",
    "_uuid": "3cb308e1-dd23-45c5-9ecb-f878248eea79",
    "collapsed": false,
    "execution": {
     "iopub.execute_input": "2024-08-20T14:14:26.244686Z",
     "iopub.status.busy": "2024-08-20T14:14:26.244036Z",
     "iopub.status.idle": "2024-08-20T14:14:26.319014Z",
     "shell.execute_reply": "2024-08-20T14:14:26.318044Z"
    },
    "jupyter": {
     "outputs_hidden": false
    },
    "papermill": {
     "duration": 0.084971,
     "end_time": "2024-08-20T14:14:26.321215",
     "exception": false,
     "start_time": "2024-08-20T14:14:26.236244",
     "status": "completed"
    },
    "tags": []
   },
   "outputs": [],
   "source": [
    "X=np.array(images)\n",
    "X = X.reshape(-1, 128, 128, 3)\n",
    "Y=[int(image_paths[i].split('_')[1].split('.')[0]) for i in range(len(X))]\n",
    "Y=np.array(Y)"
   ]
  },
  {
   "cell_type": "code",
   "execution_count": 11,
   "id": "96f0d1aa",
   "metadata": {
    "_cell_guid": "c230408b-c357-428d-a717-d82e32a5e20e",
    "_uuid": "549af1cf-cc70-4b8a-a65f-6074156e4676",
    "collapsed": false,
    "execution": {
     "iopub.execute_input": "2024-08-20T14:14:26.336964Z",
     "iopub.status.busy": "2024-08-20T14:14:26.336675Z",
     "iopub.status.idle": "2024-08-20T14:14:26.342254Z",
     "shell.execute_reply": "2024-08-20T14:14:26.341390Z"
    },
    "jupyter": {
     "outputs_hidden": false
    },
    "papermill": {
     "duration": 0.015527,
     "end_time": "2024-08-20T14:14:26.344218",
     "exception": false,
     "start_time": "2024-08-20T14:14:26.328691",
     "status": "completed"
    },
    "tags": []
   },
   "outputs": [
    {
     "data": {
      "text/plain": [
       "(4002, 128, 128, 3)"
      ]
     },
     "execution_count": 11,
     "metadata": {},
     "output_type": "execute_result"
    }
   ],
   "source": [
    "X.shape"
   ]
  },
  {
   "cell_type": "code",
   "execution_count": 12,
   "id": "0bcc7eec",
   "metadata": {
    "_cell_guid": "fd464a46-570a-4e31-b130-e3e818d49ece",
    "_uuid": "b5313fec-b71d-4840-9a14-dca603fa9197",
    "collapsed": false,
    "execution": {
     "iopub.execute_input": "2024-08-20T14:14:26.360099Z",
     "iopub.status.busy": "2024-08-20T14:14:26.359852Z",
     "iopub.status.idle": "2024-08-20T14:14:26.364997Z",
     "shell.execute_reply": "2024-08-20T14:14:26.364074Z"
    },
    "jupyter": {
     "outputs_hidden": false
    },
    "papermill": {
     "duration": 0.015242,
     "end_time": "2024-08-20T14:14:26.366826",
     "exception": false,
     "start_time": "2024-08-20T14:14:26.351584",
     "status": "completed"
    },
    "tags": []
   },
   "outputs": [
    {
     "data": {
      "text/plain": [
       "(4002,)"
      ]
     },
     "execution_count": 12,
     "metadata": {},
     "output_type": "execute_result"
    }
   ],
   "source": [
    "Y.shape"
   ]
  },
  {
   "cell_type": "code",
   "execution_count": 13,
   "id": "393947ab",
   "metadata": {
    "_cell_guid": "3c5cb5d3-aaa7-4220-a59d-7faffc891725",
    "_uuid": "04ba8015-aab5-4e60-8e82-2406fa56c84b",
    "collapsed": false,
    "execution": {
     "iopub.execute_input": "2024-08-20T14:14:26.382997Z",
     "iopub.status.busy": "2024-08-20T14:14:26.382742Z",
     "iopub.status.idle": "2024-08-20T14:14:26.861242Z",
     "shell.execute_reply": "2024-08-20T14:14:26.860472Z"
    },
    "jupyter": {
     "outputs_hidden": false
    },
    "papermill": {
     "duration": 0.489215,
     "end_time": "2024-08-20T14:14:26.863592",
     "exception": false,
     "start_time": "2024-08-20T14:14:26.374377",
     "status": "completed"
    },
    "tags": []
   },
   "outputs": [],
   "source": [
    "X=X/255"
   ]
  },
  {
   "cell_type": "code",
   "execution_count": 14,
   "id": "df409578",
   "metadata": {
    "_cell_guid": "d28caec7-3ae3-4a6d-924d-507de028605d",
    "_uuid": "d13a4e3b-ebe5-438e-9bc2-91d6c59f91f5",
    "collapsed": false,
    "execution": {
     "iopub.execute_input": "2024-08-20T14:14:26.880781Z",
     "iopub.status.busy": "2024-08-20T14:14:26.879984Z",
     "iopub.status.idle": "2024-08-20T14:14:28.392913Z",
     "shell.execute_reply": "2024-08-20T14:14:28.392057Z"
    },
    "jupyter": {
     "outputs_hidden": false
    },
    "papermill": {
     "duration": 1.523899,
     "end_time": "2024-08-20T14:14:28.395409",
     "exception": false,
     "start_time": "2024-08-20T14:14:26.871510",
     "status": "completed"
    },
    "tags": []
   },
   "outputs": [],
   "source": [
    "from sklearn.model_selection import train_test_split\n",
    "x_train,x_test,y_train,y_test=train_test_split(X,Y,test_size=0.2,random_state=404)"
   ]
  },
  {
   "cell_type": "code",
   "execution_count": 15,
   "id": "567eef60",
   "metadata": {
    "_cell_guid": "a2ccc7bf-e2dc-40a5-bcf5-83f50eebf53b",
    "_uuid": "b0011ed3-4b0a-4d3f-aa77-31258d970aaf",
    "collapsed": false,
    "execution": {
     "iopub.execute_input": "2024-08-20T14:14:28.412702Z",
     "iopub.status.busy": "2024-08-20T14:14:28.412375Z",
     "iopub.status.idle": "2024-08-20T14:14:40.152240Z",
     "shell.execute_reply": "2024-08-20T14:14:40.151446Z"
    },
    "jupyter": {
     "outputs_hidden": false
    },
    "papermill": {
     "duration": 11.750842,
     "end_time": "2024-08-20T14:14:40.154654",
     "exception": false,
     "start_time": "2024-08-20T14:14:28.403812",
     "status": "completed"
    },
    "tags": []
   },
   "outputs": [
    {
     "name": "stderr",
     "output_type": "stream",
     "text": [
      "2024-08-20 14:14:30.156602: E external/local_xla/xla/stream_executor/cuda/cuda_dnn.cc:9261] Unable to register cuDNN factory: Attempting to register factory for plugin cuDNN when one has already been registered\n",
      "2024-08-20 14:14:30.156707: E external/local_xla/xla/stream_executor/cuda/cuda_fft.cc:607] Unable to register cuFFT factory: Attempting to register factory for plugin cuFFT when one has already been registered\n",
      "2024-08-20 14:14:30.278108: E external/local_xla/xla/stream_executor/cuda/cuda_blas.cc:1515] Unable to register cuBLAS factory: Attempting to register factory for plugin cuBLAS when one has already been registered\n"
     ]
    }
   ],
   "source": [
    "import keras\n",
    "from keras.layers import Conv2D,Dense,Flatten,MaxPooling2D"
   ]
  },
  {
   "cell_type": "code",
   "execution_count": 16,
   "id": "592609eb",
   "metadata": {
    "_cell_guid": "439e27c6-82dd-496f-86aa-ba86dbf4d55d",
    "_uuid": "36217c0a-9b7c-4822-ac03-0e25515bdede",
    "collapsed": false,
    "execution": {
     "iopub.execute_input": "2024-08-20T14:14:40.171961Z",
     "iopub.status.busy": "2024-08-20T14:14:40.171416Z",
     "iopub.status.idle": "2024-08-20T14:14:40.177503Z",
     "shell.execute_reply": "2024-08-20T14:14:40.176695Z"
    },
    "jupyter": {
     "outputs_hidden": false
    },
    "papermill": {
     "duration": 0.016637,
     "end_time": "2024-08-20T14:14:40.179384",
     "exception": false,
     "start_time": "2024-08-20T14:14:40.162747",
     "status": "completed"
    },
    "tags": []
   },
   "outputs": [
    {
     "data": {
      "text/plain": [
       "array([0, 1, 2, 3, 4, 5])"
      ]
     },
     "execution_count": 16,
     "metadata": {},
     "output_type": "execute_result"
    }
   ],
   "source": [
    "#we have 6 calasses that's why we will use 6 units in the output layer\n",
    "np.unique(Y)"
   ]
  },
  {
   "cell_type": "code",
   "execution_count": 17,
   "id": "9518656e",
   "metadata": {
    "_cell_guid": "ddf4cfe0-86cf-46a4-989c-b0b088357cbd",
    "_uuid": "b7486e5e-ae1a-468a-997f-cc38a735ced2",
    "collapsed": false,
    "execution": {
     "iopub.execute_input": "2024-08-20T14:14:40.196941Z",
     "iopub.status.busy": "2024-08-20T14:14:40.196686Z",
     "iopub.status.idle": "2024-08-20T14:14:41.028433Z",
     "shell.execute_reply": "2024-08-20T14:14:41.027507Z"
    },
    "jupyter": {
     "outputs_hidden": false
    },
    "papermill": {
     "duration": 0.842458,
     "end_time": "2024-08-20T14:14:41.030425",
     "exception": false,
     "start_time": "2024-08-20T14:14:40.187967",
     "status": "completed"
    },
    "tags": []
   },
   "outputs": [
    {
     "name": "stderr",
     "output_type": "stream",
     "text": [
      "/opt/conda/lib/python3.10/site-packages/keras/src/layers/convolutional/base_conv.py:107: UserWarning: Do not pass an `input_shape`/`input_dim` argument to a layer. When using Sequential models, prefer using an `Input(shape)` object as the first layer in the model instead.\n",
      "  super().__init__(activity_regularizer=activity_regularizer, **kwargs)\n"
     ]
    },
    {
     "data": {
      "text/html": [
       "<pre style=\"white-space:pre;overflow-x:auto;line-height:normal;font-family:Menlo,'DejaVu Sans Mono',consolas,'Courier New',monospace\"><span style=\"font-weight: bold\">Model: \"sequential\"</span>\n",
       "</pre>\n"
      ],
      "text/plain": [
       "\u001b[1mModel: \"sequential\"\u001b[0m\n"
      ]
     },
     "metadata": {},
     "output_type": "display_data"
    },
    {
     "data": {
      "text/html": [
       "<pre style=\"white-space:pre;overflow-x:auto;line-height:normal;font-family:Menlo,'DejaVu Sans Mono',consolas,'Courier New',monospace\">┏━━━━━━━━━━━━━━━━━━━━━━━━━━━━━━━━━┳━━━━━━━━━━━━━━━━━━━━━━━━┳━━━━━━━━━━━━━━━┓\n",
       "┃<span style=\"font-weight: bold\"> Layer (type)                    </span>┃<span style=\"font-weight: bold\"> Output Shape           </span>┃<span style=\"font-weight: bold\">       Param # </span>┃\n",
       "┡━━━━━━━━━━━━━━━━━━━━━━━━━━━━━━━━━╇━━━━━━━━━━━━━━━━━━━━━━━━╇━━━━━━━━━━━━━━━┩\n",
       "│ conv2d (<span style=\"color: #0087ff; text-decoration-color: #0087ff\">Conv2D</span>)                 │ (<span style=\"color: #00d7ff; text-decoration-color: #00d7ff\">None</span>, <span style=\"color: #00af00; text-decoration-color: #00af00\">126</span>, <span style=\"color: #00af00; text-decoration-color: #00af00\">126</span>, <span style=\"color: #00af00; text-decoration-color: #00af00\">10</span>)   │           <span style=\"color: #00af00; text-decoration-color: #00af00\">280</span> │\n",
       "├─────────────────────────────────┼────────────────────────┼───────────────┤\n",
       "│ max_pooling2d (<span style=\"color: #0087ff; text-decoration-color: #0087ff\">MaxPooling2D</span>)    │ (<span style=\"color: #00d7ff; text-decoration-color: #00d7ff\">None</span>, <span style=\"color: #00af00; text-decoration-color: #00af00\">63</span>, <span style=\"color: #00af00; text-decoration-color: #00af00\">63</span>, <span style=\"color: #00af00; text-decoration-color: #00af00\">10</span>)     │             <span style=\"color: #00af00; text-decoration-color: #00af00\">0</span> │\n",
       "├─────────────────────────────────┼────────────────────────┼───────────────┤\n",
       "│ conv2d_1 (<span style=\"color: #0087ff; text-decoration-color: #0087ff\">Conv2D</span>)               │ (<span style=\"color: #00d7ff; text-decoration-color: #00d7ff\">None</span>, <span style=\"color: #00af00; text-decoration-color: #00af00\">61</span>, <span style=\"color: #00af00; text-decoration-color: #00af00\">61</span>, <span style=\"color: #00af00; text-decoration-color: #00af00\">10</span>)     │           <span style=\"color: #00af00; text-decoration-color: #00af00\">910</span> │\n",
       "├─────────────────────────────────┼────────────────────────┼───────────────┤\n",
       "│ max_pooling2d_1 (<span style=\"color: #0087ff; text-decoration-color: #0087ff\">MaxPooling2D</span>)  │ (<span style=\"color: #00d7ff; text-decoration-color: #00d7ff\">None</span>, <span style=\"color: #00af00; text-decoration-color: #00af00\">30</span>, <span style=\"color: #00af00; text-decoration-color: #00af00\">30</span>, <span style=\"color: #00af00; text-decoration-color: #00af00\">10</span>)     │             <span style=\"color: #00af00; text-decoration-color: #00af00\">0</span> │\n",
       "├─────────────────────────────────┼────────────────────────┼───────────────┤\n",
       "│ flatten (<span style=\"color: #0087ff; text-decoration-color: #0087ff\">Flatten</span>)               │ (<span style=\"color: #00d7ff; text-decoration-color: #00d7ff\">None</span>, <span style=\"color: #00af00; text-decoration-color: #00af00\">9000</span>)           │             <span style=\"color: #00af00; text-decoration-color: #00af00\">0</span> │\n",
       "├─────────────────────────────────┼────────────────────────┼───────────────┤\n",
       "│ dense (<span style=\"color: #0087ff; text-decoration-color: #0087ff\">Dense</span>)                   │ (<span style=\"color: #00d7ff; text-decoration-color: #00d7ff\">None</span>, <span style=\"color: #00af00; text-decoration-color: #00af00\">224</span>)            │     <span style=\"color: #00af00; text-decoration-color: #00af00\">2,016,224</span> │\n",
       "├─────────────────────────────────┼────────────────────────┼───────────────┤\n",
       "│ dense_1 (<span style=\"color: #0087ff; text-decoration-color: #0087ff\">Dense</span>)                 │ (<span style=\"color: #00d7ff; text-decoration-color: #00d7ff\">None</span>, <span style=\"color: #00af00; text-decoration-color: #00af00\">6</span>)              │         <span style=\"color: #00af00; text-decoration-color: #00af00\">1,350</span> │\n",
       "└─────────────────────────────────┴────────────────────────┴───────────────┘\n",
       "</pre>\n"
      ],
      "text/plain": [
       "┏━━━━━━━━━━━━━━━━━━━━━━━━━━━━━━━━━┳━━━━━━━━━━━━━━━━━━━━━━━━┳━━━━━━━━━━━━━━━┓\n",
       "┃\u001b[1m \u001b[0m\u001b[1mLayer (type)                   \u001b[0m\u001b[1m \u001b[0m┃\u001b[1m \u001b[0m\u001b[1mOutput Shape          \u001b[0m\u001b[1m \u001b[0m┃\u001b[1m \u001b[0m\u001b[1m      Param #\u001b[0m\u001b[1m \u001b[0m┃\n",
       "┡━━━━━━━━━━━━━━━━━━━━━━━━━━━━━━━━━╇━━━━━━━━━━━━━━━━━━━━━━━━╇━━━━━━━━━━━━━━━┩\n",
       "│ conv2d (\u001b[38;5;33mConv2D\u001b[0m)                 │ (\u001b[38;5;45mNone\u001b[0m, \u001b[38;5;34m126\u001b[0m, \u001b[38;5;34m126\u001b[0m, \u001b[38;5;34m10\u001b[0m)   │           \u001b[38;5;34m280\u001b[0m │\n",
       "├─────────────────────────────────┼────────────────────────┼───────────────┤\n",
       "│ max_pooling2d (\u001b[38;5;33mMaxPooling2D\u001b[0m)    │ (\u001b[38;5;45mNone\u001b[0m, \u001b[38;5;34m63\u001b[0m, \u001b[38;5;34m63\u001b[0m, \u001b[38;5;34m10\u001b[0m)     │             \u001b[38;5;34m0\u001b[0m │\n",
       "├─────────────────────────────────┼────────────────────────┼───────────────┤\n",
       "│ conv2d_1 (\u001b[38;5;33mConv2D\u001b[0m)               │ (\u001b[38;5;45mNone\u001b[0m, \u001b[38;5;34m61\u001b[0m, \u001b[38;5;34m61\u001b[0m, \u001b[38;5;34m10\u001b[0m)     │           \u001b[38;5;34m910\u001b[0m │\n",
       "├─────────────────────────────────┼────────────────────────┼───────────────┤\n",
       "│ max_pooling2d_1 (\u001b[38;5;33mMaxPooling2D\u001b[0m)  │ (\u001b[38;5;45mNone\u001b[0m, \u001b[38;5;34m30\u001b[0m, \u001b[38;5;34m30\u001b[0m, \u001b[38;5;34m10\u001b[0m)     │             \u001b[38;5;34m0\u001b[0m │\n",
       "├─────────────────────────────────┼────────────────────────┼───────────────┤\n",
       "│ flatten (\u001b[38;5;33mFlatten\u001b[0m)               │ (\u001b[38;5;45mNone\u001b[0m, \u001b[38;5;34m9000\u001b[0m)           │             \u001b[38;5;34m0\u001b[0m │\n",
       "├─────────────────────────────────┼────────────────────────┼───────────────┤\n",
       "│ dense (\u001b[38;5;33mDense\u001b[0m)                   │ (\u001b[38;5;45mNone\u001b[0m, \u001b[38;5;34m224\u001b[0m)            │     \u001b[38;5;34m2,016,224\u001b[0m │\n",
       "├─────────────────────────────────┼────────────────────────┼───────────────┤\n",
       "│ dense_1 (\u001b[38;5;33mDense\u001b[0m)                 │ (\u001b[38;5;45mNone\u001b[0m, \u001b[38;5;34m6\u001b[0m)              │         \u001b[38;5;34m1,350\u001b[0m │\n",
       "└─────────────────────────────────┴────────────────────────┴───────────────┘\n"
      ]
     },
     "metadata": {},
     "output_type": "display_data"
    },
    {
     "data": {
      "text/html": [
       "<pre style=\"white-space:pre;overflow-x:auto;line-height:normal;font-family:Menlo,'DejaVu Sans Mono',consolas,'Courier New',monospace\"><span style=\"font-weight: bold\"> Total params: </span><span style=\"color: #00af00; text-decoration-color: #00af00\">2,018,764</span> (7.70 MB)\n",
       "</pre>\n"
      ],
      "text/plain": [
       "\u001b[1m Total params: \u001b[0m\u001b[38;5;34m2,018,764\u001b[0m (7.70 MB)\n"
      ]
     },
     "metadata": {},
     "output_type": "display_data"
    },
    {
     "data": {
      "text/html": [
       "<pre style=\"white-space:pre;overflow-x:auto;line-height:normal;font-family:Menlo,'DejaVu Sans Mono',consolas,'Courier New',monospace\"><span style=\"font-weight: bold\"> Trainable params: </span><span style=\"color: #00af00; text-decoration-color: #00af00\">2,018,764</span> (7.70 MB)\n",
       "</pre>\n"
      ],
      "text/plain": [
       "\u001b[1m Trainable params: \u001b[0m\u001b[38;5;34m2,018,764\u001b[0m (7.70 MB)\n"
      ]
     },
     "metadata": {},
     "output_type": "display_data"
    },
    {
     "data": {
      "text/html": [
       "<pre style=\"white-space:pre;overflow-x:auto;line-height:normal;font-family:Menlo,'DejaVu Sans Mono',consolas,'Courier New',monospace\"><span style=\"font-weight: bold\"> Non-trainable params: </span><span style=\"color: #00af00; text-decoration-color: #00af00\">0</span> (0.00 B)\n",
       "</pre>\n"
      ],
      "text/plain": [
       "\u001b[1m Non-trainable params: \u001b[0m\u001b[38;5;34m0\u001b[0m (0.00 B)\n"
      ]
     },
     "metadata": {},
     "output_type": "display_data"
    }
   ],
   "source": [
    "model=keras.Sequential([\n",
    "    Conv2D(input_shape=(128,128,3),kernel_size=(3,3),filters=10,activation='relu'),\n",
    "    MaxPooling2D(pool_size=(2,2)),\n",
    "    Conv2D(kernel_size=(3,3),filters=10,activation='relu'),\n",
    "    MaxPooling2D(pool_size=(2,2)),\n",
    "    Flatten(),\n",
    "    Dense(units=224,activation='relu'),\n",
    "    Dense(units=6,activation='softmax')\n",
    "\n",
    "])\n",
    "model.summary()"
   ]
  },
  {
   "cell_type": "code",
   "execution_count": 18,
   "id": "d21de453",
   "metadata": {
    "_cell_guid": "4e62889d-8cbf-47b8-8073-5457ff587ab7",
    "_uuid": "080faf6e-5adc-4b06-a1ad-ba0e79558c33",
    "collapsed": false,
    "execution": {
     "iopub.execute_input": "2024-08-20T14:14:41.050296Z",
     "iopub.status.busy": "2024-08-20T14:14:41.049614Z",
     "iopub.status.idle": "2024-08-20T14:14:41.063365Z",
     "shell.execute_reply": "2024-08-20T14:14:41.062541Z"
    },
    "jupyter": {
     "outputs_hidden": false
    },
    "papermill": {
     "duration": 0.025709,
     "end_time": "2024-08-20T14:14:41.065411",
     "exception": false,
     "start_time": "2024-08-20T14:14:41.039702",
     "status": "completed"
    },
    "tags": []
   },
   "outputs": [],
   "source": [
    "model.compile(loss='sparse_categorical_crossentropy',optimizer='adam',metrics=['accuracy'])"
   ]
  },
  {
   "cell_type": "code",
   "execution_count": 19,
   "id": "d3dde9c2",
   "metadata": {
    "_cell_guid": "75907dc6-7cfb-4a0b-8888-7dd622f26996",
    "_uuid": "0a5ea4ff-bd7b-434e-982f-331b389d0115",
    "collapsed": false,
    "execution": {
     "iopub.execute_input": "2024-08-20T14:14:41.084212Z",
     "iopub.status.busy": "2024-08-20T14:14:41.083943Z",
     "iopub.status.idle": "2024-08-20T14:15:14.588708Z",
     "shell.execute_reply": "2024-08-20T14:15:14.587698Z"
    },
    "jupyter": {
     "outputs_hidden": false
    },
    "papermill": {
     "duration": 33.516349,
     "end_time": "2024-08-20T14:15:14.590643",
     "exception": false,
     "start_time": "2024-08-20T14:14:41.074294",
     "status": "completed"
    },
    "tags": []
   },
   "outputs": [
    {
     "name": "stdout",
     "output_type": "stream",
     "text": [
      "Epoch 1/25\n",
      "\u001b[1m 26/126\u001b[0m \u001b[32m━━━━\u001b[0m\u001b[37m━━━━━━━━━━━━━━━━\u001b[0m \u001b[1m0s\u001b[0m 6ms/step - accuracy: 0.1866 - loss: 1.9829"
     ]
    },
    {
     "name": "stderr",
     "output_type": "stream",
     "text": [
      "WARNING: All log messages before absl::InitializeLog() is called are written to STDERR\n",
      "I0000 00:00:1724163288.032264      76 device_compiler.h:186] Compiled cluster using XLA!  This line is logged at most once for the lifetime of the process.\n",
      "W0000 00:00:1724163288.053342      76 graph_launch.cc:671] Fallback to op-by-op mode because memset node breaks graph update\n"
     ]
    },
    {
     "name": "stdout",
     "output_type": "stream",
     "text": [
      "\u001b[1m126/126\u001b[0m \u001b[32m━━━━━━━━━━━━━━━━━━━━\u001b[0m\u001b[37m\u001b[0m \u001b[1m0s\u001b[0m 18ms/step - accuracy: 0.1690 - loss: 1.8602"
     ]
    },
    {
     "name": "stderr",
     "output_type": "stream",
     "text": [
      "W0000 00:00:1724163290.265046      73 graph_launch.cc:671] Fallback to op-by-op mode because memset node breaks graph update\n",
      "W0000 00:00:1724163291.256413      76 graph_launch.cc:671] Fallback to op-by-op mode because memset node breaks graph update\n"
     ]
    },
    {
     "name": "stdout",
     "output_type": "stream",
     "text": [
      "\u001b[1m126/126\u001b[0m \u001b[32m━━━━━━━━━━━━━━━━━━━━\u001b[0m\u001b[37m\u001b[0m \u001b[1m9s\u001b[0m 31ms/step - accuracy: 0.1690 - loss: 1.8598 - val_accuracy: 0.1885 - val_loss: 1.7869\n",
      "Epoch 2/25\n",
      "\u001b[1m126/126\u001b[0m \u001b[32m━━━━━━━━━━━━━━━━━━━━\u001b[0m\u001b[37m\u001b[0m \u001b[1m1s\u001b[0m 7ms/step - accuracy: 0.2054 - loss: 1.7822 - val_accuracy: 0.2497 - val_loss: 1.7711\n",
      "Epoch 3/25\n",
      "\u001b[1m126/126\u001b[0m \u001b[32m━━━━━━━━━━━━━━━━━━━━\u001b[0m\u001b[37m\u001b[0m \u001b[1m1s\u001b[0m 7ms/step - accuracy: 0.2393 - loss: 1.7628 - val_accuracy: 0.3396 - val_loss: 1.6893\n",
      "Epoch 4/25\n",
      "\u001b[1m126/126\u001b[0m \u001b[32m━━━━━━━━━━━━━━━━━━━━\u001b[0m\u001b[37m\u001b[0m \u001b[1m1s\u001b[0m 7ms/step - accuracy: 0.3029 - loss: 1.6897 - val_accuracy: 0.4557 - val_loss: 1.5656\n",
      "Epoch 5/25\n",
      "\u001b[1m126/126\u001b[0m \u001b[32m━━━━━━━━━━━━━━━━━━━━\u001b[0m\u001b[37m\u001b[0m \u001b[1m1s\u001b[0m 7ms/step - accuracy: 0.4146 - loss: 1.5389 - val_accuracy: 0.5518 - val_loss: 1.3335\n",
      "Epoch 6/25\n",
      "\u001b[1m126/126\u001b[0m \u001b[32m━━━━━━━━━━━━━━━━━━━━\u001b[0m\u001b[37m\u001b[0m \u001b[1m1s\u001b[0m 7ms/step - accuracy: 0.5168 - loss: 1.3077 - val_accuracy: 0.6891 - val_loss: 1.0226\n",
      "Epoch 7/25\n",
      "\u001b[1m126/126\u001b[0m \u001b[32m━━━━━━━━━━━━━━━━━━━━\u001b[0m\u001b[37m\u001b[0m \u001b[1m1s\u001b[0m 7ms/step - accuracy: 0.6704 - loss: 0.9870 - val_accuracy: 0.7740 - val_loss: 0.7348\n",
      "Epoch 8/25\n",
      "\u001b[1m126/126\u001b[0m \u001b[32m━━━━━━━━━━━━━━━━━━━━\u001b[0m\u001b[37m\u001b[0m \u001b[1m1s\u001b[0m 7ms/step - accuracy: 0.8108 - loss: 0.6516 - val_accuracy: 0.9226 - val_loss: 0.3800\n",
      "Epoch 9/25\n",
      "\u001b[1m126/126\u001b[0m \u001b[32m━━━━━━━━━━━━━━━━━━━━\u001b[0m\u001b[37m\u001b[0m \u001b[1m1s\u001b[0m 7ms/step - accuracy: 0.8901 - loss: 0.3860 - val_accuracy: 0.9763 - val_loss: 0.1838\n",
      "Epoch 10/25\n",
      "\u001b[1m126/126\u001b[0m \u001b[32m━━━━━━━━━━━━━━━━━━━━\u001b[0m\u001b[37m\u001b[0m \u001b[1m1s\u001b[0m 7ms/step - accuracy: 0.9552 - loss: 0.1932 - val_accuracy: 0.9975 - val_loss: 0.0672\n",
      "Epoch 11/25\n",
      "\u001b[1m126/126\u001b[0m \u001b[32m━━━━━━━━━━━━━━━━━━━━\u001b[0m\u001b[37m\u001b[0m \u001b[1m1s\u001b[0m 7ms/step - accuracy: 0.9930 - loss: 0.0761 - val_accuracy: 1.0000 - val_loss: 0.0294\n",
      "Epoch 12/25\n",
      "\u001b[1m126/126\u001b[0m \u001b[32m━━━━━━━━━━━━━━━━━━━━\u001b[0m\u001b[37m\u001b[0m \u001b[1m1s\u001b[0m 7ms/step - accuracy: 1.0000 - loss: 0.0226 - val_accuracy: 1.0000 - val_loss: 0.0101\n",
      "Epoch 13/25\n",
      "\u001b[1m126/126\u001b[0m \u001b[32m━━━━━━━━━━━━━━━━━━━━\u001b[0m\u001b[37m\u001b[0m \u001b[1m1s\u001b[0m 7ms/step - accuracy: 1.0000 - loss: 0.0115 - val_accuracy: 1.0000 - val_loss: 0.0061\n",
      "Epoch 14/25\n",
      "\u001b[1m126/126\u001b[0m \u001b[32m━━━━━━━━━━━━━━━━━━━━\u001b[0m\u001b[37m\u001b[0m \u001b[1m1s\u001b[0m 7ms/step - accuracy: 1.0000 - loss: 0.0061 - val_accuracy: 1.0000 - val_loss: 0.0041\n",
      "Epoch 15/25\n",
      "\u001b[1m126/126\u001b[0m \u001b[32m━━━━━━━━━━━━━━━━━━━━\u001b[0m\u001b[37m\u001b[0m \u001b[1m1s\u001b[0m 8ms/step - accuracy: 1.0000 - loss: 0.0041 - val_accuracy: 1.0000 - val_loss: 0.0032\n",
      "Epoch 16/25\n",
      "\u001b[1m126/126\u001b[0m \u001b[32m━━━━━━━━━━━━━━━━━━━━\u001b[0m\u001b[37m\u001b[0m \u001b[1m1s\u001b[0m 8ms/step - accuracy: 1.0000 - loss: 0.0032 - val_accuracy: 1.0000 - val_loss: 0.0025\n",
      "Epoch 17/25\n",
      "\u001b[1m126/126\u001b[0m \u001b[32m━━━━━━━━━━━━━━━━━━━━\u001b[0m\u001b[37m\u001b[0m \u001b[1m1s\u001b[0m 8ms/step - accuracy: 1.0000 - loss: 0.0025 - val_accuracy: 1.0000 - val_loss: 0.0021\n",
      "Epoch 18/25\n",
      "\u001b[1m126/126\u001b[0m \u001b[32m━━━━━━━━━━━━━━━━━━━━\u001b[0m\u001b[37m\u001b[0m \u001b[1m1s\u001b[0m 7ms/step - accuracy: 1.0000 - loss: 0.0021 - val_accuracy: 1.0000 - val_loss: 0.0017\n",
      "Epoch 19/25\n",
      "\u001b[1m126/126\u001b[0m \u001b[32m━━━━━━━━━━━━━━━━━━━━\u001b[0m\u001b[37m\u001b[0m \u001b[1m1s\u001b[0m 7ms/step - accuracy: 1.0000 - loss: 0.0018 - val_accuracy: 1.0000 - val_loss: 0.0014\n",
      "Epoch 20/25\n",
      "\u001b[1m126/126\u001b[0m \u001b[32m━━━━━━━━━━━━━━━━━━━━\u001b[0m\u001b[37m\u001b[0m \u001b[1m1s\u001b[0m 7ms/step - accuracy: 1.0000 - loss: 0.0015 - val_accuracy: 1.0000 - val_loss: 0.0012\n",
      "Epoch 21/25\n",
      "\u001b[1m126/126\u001b[0m \u001b[32m━━━━━━━━━━━━━━━━━━━━\u001b[0m\u001b[37m\u001b[0m \u001b[1m1s\u001b[0m 7ms/step - accuracy: 1.0000 - loss: 0.0013 - val_accuracy: 1.0000 - val_loss: 0.0011\n",
      "Epoch 22/25\n",
      "\u001b[1m126/126\u001b[0m \u001b[32m━━━━━━━━━━━━━━━━━━━━\u001b[0m\u001b[37m\u001b[0m \u001b[1m1s\u001b[0m 7ms/step - accuracy: 1.0000 - loss: 0.0011 - val_accuracy: 1.0000 - val_loss: 9.3893e-04\n",
      "Epoch 23/25\n",
      "\u001b[1m126/126\u001b[0m \u001b[32m━━━━━━━━━━━━━━━━━━━━\u001b[0m\u001b[37m\u001b[0m \u001b[1m1s\u001b[0m 7ms/step - accuracy: 1.0000 - loss: 9.6697e-04 - val_accuracy: 1.0000 - val_loss: 8.1463e-04\n",
      "Epoch 24/25\n",
      "\u001b[1m126/126\u001b[0m \u001b[32m━━━━━━━━━━━━━━━━━━━━\u001b[0m\u001b[37m\u001b[0m \u001b[1m1s\u001b[0m 7ms/step - accuracy: 1.0000 - loss: 8.3557e-04 - val_accuracy: 1.0000 - val_loss: 7.1317e-04\n",
      "Epoch 25/25\n",
      "\u001b[1m126/126\u001b[0m \u001b[32m━━━━━━━━━━━━━━━━━━━━\u001b[0m\u001b[37m\u001b[0m \u001b[1m1s\u001b[0m 7ms/step - accuracy: 1.0000 - loss: 7.3837e-04 - val_accuracy: 1.0000 - val_loss: 6.3911e-04\n"
     ]
    },
    {
     "data": {
      "text/plain": [
       "<keras.src.callbacks.history.History at 0x7f63979b1f30>"
      ]
     },
     "execution_count": 19,
     "metadata": {},
     "output_type": "execute_result"
    }
   ],
   "source": [
    "model.fit(X,Y,batch_size=32,epochs=25,validation_data=(x_test,y_test))"
   ]
  },
  {
   "cell_type": "code",
   "execution_count": 20,
   "id": "fc0f4200",
   "metadata": {
    "_cell_guid": "da0f9276-0e2d-4067-a2eb-92e853f903e5",
    "_uuid": "dfcba977-fb49-41a1-8a19-29a4eb867843",
    "collapsed": false,
    "execution": {
     "iopub.execute_input": "2024-08-20T14:15:14.679054Z",
     "iopub.status.busy": "2024-08-20T14:15:14.678186Z",
     "iopub.status.idle": "2024-08-20T14:15:16.225841Z",
     "shell.execute_reply": "2024-08-20T14:15:16.224858Z"
    },
    "jupyter": {
     "outputs_hidden": false
    },
    "papermill": {
     "duration": 1.594039,
     "end_time": "2024-08-20T14:15:16.228217",
     "exception": false,
     "start_time": "2024-08-20T14:15:14.634178",
     "status": "completed"
    },
    "tags": []
   },
   "outputs": [
    {
     "name": "stdout",
     "output_type": "stream",
     "text": [
      "\u001b[1m15/26\u001b[0m \u001b[32m━━━━━━━━━━━\u001b[0m\u001b[37m━━━━━━━━━\u001b[0m \u001b[1m0s\u001b[0m 4ms/step  "
     ]
    },
    {
     "name": "stderr",
     "output_type": "stream",
     "text": [
      "W0000 00:00:1724163315.673082      76 graph_launch.cc:671] Fallback to op-by-op mode because memset node breaks graph update\n"
     ]
    },
    {
     "name": "stdout",
     "output_type": "stream",
     "text": [
      "\u001b[1m26/26\u001b[0m \u001b[32m━━━━━━━━━━━━━━━━━━━━\u001b[0m\u001b[37m\u001b[0m \u001b[1m1s\u001b[0m 17ms/step\n"
     ]
    }
   ],
   "source": [
    "from sklearn.metrics import confusion_matrix\n",
    "import seaborn as sns\n",
    "y_pred=model.predict(x_test)\n",
    "y_pred=np.argmax(y_pred,axis=1)\n",
    "model.save('/kaggle/working/model.h5')"
   ]
  },
  {
   "cell_type": "code",
   "execution_count": 21,
   "id": "7098aa7a",
   "metadata": {
    "_cell_guid": "7edca8d3-b64f-40d3-9f2f-2624713be984",
    "_uuid": "b01e03dd-0614-4474-a666-3cf6672a66cd",
    "collapsed": false,
    "execution": {
     "iopub.execute_input": "2024-08-20T14:15:16.316207Z",
     "iopub.status.busy": "2024-08-20T14:15:16.315903Z",
     "iopub.status.idle": "2024-08-20T14:15:16.322867Z",
     "shell.execute_reply": "2024-08-20T14:15:16.321743Z"
    },
    "jupyter": {
     "outputs_hidden": false
    },
    "papermill": {
     "duration": 0.052839,
     "end_time": "2024-08-20T14:15:16.324878",
     "exception": false,
     "start_time": "2024-08-20T14:15:16.272039",
     "status": "completed"
    },
    "tags": []
   },
   "outputs": [
    {
     "name": "stdout",
     "output_type": "stream",
     "text": [
      "[[153   0   0   0   0   0]\n",
      " [  0 121   0   0   0   0]\n",
      " [  0   0 128   0   0   0]\n",
      " [  0   0   0 141   0   0]\n",
      " [  0   0   0   0 131   0]\n",
      " [  0   0   0   0   0 127]]\n"
     ]
    }
   ],
   "source": [
    "print(confusion_matrix(y_test,y_pred))"
   ]
  },
  {
   "cell_type": "code",
   "execution_count": null,
   "id": "dfe773c5",
   "metadata": {
    "_cell_guid": "991a6085-451a-4e93-95e0-70987612f54f",
    "_uuid": "02499f3a-aca1-48aa-86cb-76e036a6f477",
    "collapsed": false,
    "jupyter": {
     "outputs_hidden": false
    },
    "papermill": {
     "duration": 0.043586,
     "end_time": "2024-08-20T14:15:16.412743",
     "exception": false,
     "start_time": "2024-08-20T14:15:16.369157",
     "status": "completed"
    },
    "tags": []
   },
   "outputs": [],
   "source": []
  }
 ],
 "metadata": {
  "kaggle": {
   "accelerator": "nvidiaTeslaT4",
   "dataSources": [
    {
     "datasetId": 429632,
     "sourceId": 816659,
     "sourceType": "datasetVersion"
    }
   ],
   "isGpuEnabled": true,
   "isInternetEnabled": true,
   "language": "python",
   "sourceType": "notebook"
  },
  "kernelspec": {
   "display_name": "Python 3",
   "language": "python",
   "name": "python3"
  },
  "language_info": {
   "codemirror_mode": {
    "name": "ipython",
    "version": 3
   },
   "file_extension": ".py",
   "mimetype": "text/x-python",
   "name": "python",
   "nbconvert_exporter": "python",
   "pygments_lexer": "ipython3",
   "version": "3.10.13"
  },
  "papermill": {
   "default_parameters": {},
   "duration": 89.132859,
   "end_time": "2024-08-20T14:15:19.350016",
   "environment_variables": {},
   "exception": null,
   "input_path": "__notebook__.ipynb",
   "output_path": "__notebook__.ipynb",
   "parameters": {},
   "start_time": "2024-08-20T14:13:50.217157",
   "version": "2.5.0"
  }
 },
 "nbformat": 4,
 "nbformat_minor": 5
}
